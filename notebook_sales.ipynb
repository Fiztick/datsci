{
 "cells": [
  {
   "cell_type": "code",
   "execution_count": 1,
   "id": "c4bb38de-8003-4891-bd82-d61349ea8f87",
   "metadata": {},
   "outputs": [],
   "source": [
    "customer_data = [\n",
    "    {\"nama\": \"bagus\", \"qty\": 4, \"cart\": [\"milk\", \"snack\", \"meat\", \"soda\"]},\n",
    "    {\"nama\": \"mahesa\", \"qty\": 6, \"cart\": [\"milk\", \"snack\", \"meat\", \"soda\", \"coffee\", \"water\"]},\n",
    "    {\"nama\": \"hafiz\", \"qty\": 2, \"cart\": [\"milk\", \"meat\",]},\n",
    "    {\"nama\": \"adi\", \"qty\": 1, \"cart\": [\"snack\"]},\n",
    "    {\"nama\": \"agung\", \"qty\": 4, \"cart\": [\"milk\", \"snack\", \"soda\", \"coffee\"]}\n",
    "]"
   ]
  },
  {
   "cell_type": "code",
   "execution_count": 2,
   "id": "602fd6eb-6f4c-4b5e-be9d-cebb2c8f1bf8",
   "metadata": {},
   "outputs": [
    {
     "data": {
      "text/plain": [
       "{'nama': 'bagus', 'qty': 4, 'cart': ['milk', 'snack', 'meat', 'soda']}"
      ]
     },
     "execution_count": 2,
     "metadata": {},
     "output_type": "execute_result"
    }
   ],
   "source": [
    "customer_data[0]"
   ]
  },
  {
   "cell_type": "code",
   "execution_count": 3,
   "id": "20de2cba-261e-4aaf-85c3-af30cbdb3a0d",
   "metadata": {},
   "outputs": [],
   "source": [
    "from basic.arithmatic_class import Arithmetics\n",
    "\n",
    "aritmatika = Arithmetics(keys = 1000, name=\"Sales Calculation\")"
   ]
  },
  {
   "cell_type": "code",
   "execution_count": 4,
   "id": "d09c004b-1501-44b6-b1fa-4d962f44c3a2",
   "metadata": {},
   "outputs": [],
   "source": [
    "def perhitungan_item(data_customer_sales):\n",
    "    data_sales = []\n",
    "\n",
    "    for sales in data_customer_sales:\n",
    "        nama = sales[\"nama\"]\n",
    "        qty = sales[\"qty\"]\n",
    "\n",
    "        result = {\"nama\": nama, \"total_belanja\": aritmatika.pertambahan_satuan(qty)}\n",
    "        data_sales.append(result)\n",
    "    \n",
    "    return data_sales"
   ]
  },
  {
   "cell_type": "code",
   "execution_count": 5,
   "id": "1f5d2ec0-5003-45e4-a272-152824bd9caa",
   "metadata": {},
   "outputs": [
    {
     "data": {
      "text/plain": [
       "[{'nama': 'bagus', 'total_belanja': 4000},\n",
       " {'nama': 'mahesa', 'total_belanja': 6000},\n",
       " {'nama': 'hafiz', 'total_belanja': 2000},\n",
       " {'nama': 'adi', 'total_belanja': 1000},\n",
       " {'nama': 'agung', 'total_belanja': 4000}]"
      ]
     },
     "execution_count": 5,
     "metadata": {},
     "output_type": "execute_result"
    }
   ],
   "source": [
    "data_sales = perhitungan_item(data_customer_sales = customer_data)\n",
    "data_sales"
   ]
  },
  {
   "cell_type": "code",
   "execution_count": null,
   "id": "f6fe8950-535b-4cdb-835d-2651a4796b25",
   "metadata": {},
   "outputs": [],
   "source": []
  }
 ],
 "metadata": {
  "kernelspec": {
   "display_name": "Python 3 (ipykernel)",
   "language": "python",
   "name": "python3"
  },
  "language_info": {
   "codemirror_mode": {
    "name": "ipython",
    "version": 3
   },
   "file_extension": ".py",
   "mimetype": "text/x-python",
   "name": "python",
   "nbconvert_exporter": "python",
   "pygments_lexer": "ipython3",
   "version": "3.10.0"
  }
 },
 "nbformat": 4,
 "nbformat_minor": 5
}
