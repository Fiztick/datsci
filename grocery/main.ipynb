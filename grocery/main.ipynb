{
 "cells": [
  {
   "cell_type": "code",
   "execution_count": null,
   "metadata": {},
   "outputs": [],
   "source": [
    "import pandas as pd\n",
    "from main import load_dataset"
   ]
  },
  {
   "cell_type": "code",
   "execution_count": null,
   "metadata": {},
   "outputs": [],
   "source": [
    "data_dir = \"datasets/grocery_data.csv\"\n",
    "d_grocery = load_dataset(data_dir)\n",
    "d_grocery.head()"
   ]
  },
  {
   "cell_type": "code",
   "execution_count": null,
   "metadata": {},
   "outputs": [],
   "source": [
    "monthly_revenue = d_grocery.groupby([\"Month\"]).sum()\n",
    "monthly_revenue.reset_index(level=0, inplace = True)\n",
    "monthly_revenue[[\"Month\", \"Total\"]]"
   ]
  },
  {
   "cell_type": "code",
   "execution_count": null,
   "metadata": {},
   "outputs": [],
   "source": [
    "import plotly.offline as pyoff\n",
    "import plotly.graph_objs as go"
   ]
  },
  {
   "cell_type": "code",
   "execution_count": null,
   "metadata": {},
   "outputs": [],
   "source": [
    "plot_monthly_data = [\n",
    "    go.Scatter(\n",
    "        x = monthly_revenue[\"Month\"],\n",
    "        y = monthly_revenue[\"Total\"]\n",
    "    )\n",
    "]\n",
    "\n",
    "plot_monthly_layout = go.Layout(\n",
    "    xaxis = {\"type\": \"category\"},\n",
    "    title = \"Monthly Revenue\"\n",
    ")"
   ]
  },
  {
   "cell_type": "code",
   "execution_count": null,
   "metadata": {},
   "outputs": [],
   "source": [
    "fig = go.Figure(data = plot_monthly_data, layout = plot_monthly_layout)\n",
    "# pyoff.iplot(fig)\n",
    "fig.show()\n",
    "fig.write_image(\"figures/fig1.jpg\")"
   ]
  },
  {
   "cell_type": "code",
   "execution_count": null,
   "metadata": {},
   "outputs": [],
   "source": [
    "data_product_by_quantity = d_grocery.groupby([\"Product\"])[\"Total\", \"Quantity Ordered\"].sum()\n",
    "data_product_by_quantity.reset_index(level=\"Product\", inplace = True)\n",
    "data_product_by_quantity"
   ]
  },
  {
   "cell_type": "code",
   "execution_count": null,
   "metadata": {},
   "outputs": [],
   "source": [
    "import plotly.express as px\n",
    "fig = px.bar(data_product_by_quantity, x=\"Product\", y=\"Quantity Ordered\", title=\"Ordered Item\")\n",
    "fig.show()"
   ]
  },
  {
   "cell_type": "code",
   "execution_count": null,
   "metadata": {},
   "outputs": [],
   "source": [
    "temp = 500\n",
    "plot_data_compare_product = [\n",
    "    go.Scatter(\n",
    "        x = data_product_by_quantity[\"Product\"],\n",
    "        y = data_product_by_quantity[\"Total\"] / temp,\n",
    "        name = \"Total Revenue / \" + str(temp)\n",
    "    ),\n",
    "    go.Scatter(\n",
    "        x = data_product_by_quantity[\"Product\"],\n",
    "        y = data_product_by_quantity[\"Quantity Ordered\"],\n",
    "        name = \"Quantity Ordered\"\n",
    "    )\n",
    "]\n",
    "\n",
    "plot_data_compare_layout = go.Layout(\n",
    "    xaxis = {\"type\": \"category\"},\n",
    "    title = \"Compare Revenue and Quantity Ordered of Products\"\n",
    ")"
   ]
  },
  {
   "cell_type": "code",
   "execution_count": null,
   "metadata": {},
   "outputs": [],
   "source": [
    "fig_compare_product = go.Figure(data = plot_data_compare_product, layout = plot_data_compare_layout)\n",
    "# pyoff.iplot(fig)\n",
    "fig_compare_product.show()"
   ]
  },
  {
   "cell_type": "markdown",
   "metadata": {},
   "source": [
    "Ngitung Hasil jual iPhone di LA"
   ]
  },
  {
   "cell_type": "code",
   "execution_count": null,
   "metadata": {},
   "outputs": [],
   "source": [
    "data_iphone_la = d_grocery.query(\"City == 'Los Angeles CA' and Product == 'iPhone'\")\n",
    "data_iphone_la = data_iphone_la.groupby([\"Month\"])[[\"Total\", \"Quantity Ordered\"]].sum().reset_index()\n",
    "data_iphone_la"
   ]
  },
  {
   "cell_type": "code",
   "execution_count": null,
   "metadata": {},
   "outputs": [],
   "source": [
    "plot_data_iphone_la = [\n",
    "    go.Scatter(\n",
    "        x = data_iphone_la[\"Month\"],\n",
    "        y = data_iphone_la[\"Total\"],\n",
    "        name = \"Total Revenue\"\n",
    "    )\n",
    "]\n",
    "\n",
    "plot_layout_data_iphone_la = go.Layout(\n",
    "    xaxis = {\"type\": \"category\"},\n",
    "    title = \"iPhone Revenue in LA per Month\"\n",
    ")"
   ]
  },
  {
   "cell_type": "code",
   "execution_count": null,
   "metadata": {},
   "outputs": [],
   "source": [
    "fig_data_iphone_la = go.Figure(data = plot_data_iphone_la, layout = plot_layout_data_iphone_la)\n",
    "# pyoff.iplot(fig_data_iphone_la)\n",
    "fig_data_iphone_la.show()"
   ]
  },
  {
   "cell_type": "markdown",
   "metadata": {},
   "source": [
    "Ngituh keranjang per kota"
   ]
  },
  {
   "cell_type": "code",
   "execution_count": null,
   "metadata": {},
   "outputs": [],
   "source": [
    "calculate_cart_by_city = d_grocery.groupby([\"Month\", \"City\"])[\"Order ID\"].unique().reset_index()\n",
    "calculate_cart_by_city[\"Cart\"] = calculate_cart_by_city[\"Order ID\"].apply(lambda x: x.shape[0])\n",
    "calculate_cart_by_city"
   ]
  },
  {
   "cell_type": "code",
   "execution_count": null,
   "metadata": {},
   "outputs": [],
   "source": [
    "plot_data_compare_by_city = [\n",
    "    go.Scatter(\n",
    "        x = calculate_cart_by_city.query(\"City == 'Atlanta GA'\")[\"Month\"],\n",
    "        y = calculate_cart_by_city.query(\"City == 'Atlanta GA'\")[\"Cart\"],\n",
    "        name = \"Atlanta GA\"\n",
    "    ),\n",
    "    go.Scatter(\n",
    "        x = calculate_cart_by_city.query(\"City == 'Austin TX'\")[\"Month\"],\n",
    "        y = calculate_cart_by_city.query(\"City == 'Austin TX'\")[\"Cart\"],\n",
    "        name = \"Austin TX\"\n",
    "    ),\n",
    "    go.Scatter(\n",
    "        x = calculate_cart_by_city.query(\"City == 'Boston MA'\")[\"Month\"],\n",
    "        y = calculate_cart_by_city.query(\"City == 'Boston MA'\")[\"Cart\"],\n",
    "        name = \"Boston MA\"\n",
    "    ),\n",
    "    go.Scatter(\n",
    "        x = calculate_cart_by_city.query(\"City == 'Los Angeles CA'\")[\"Month\"],\n",
    "        y = calculate_cart_by_city.query(\"City == 'Los Angeles CA'\")[\"Cart\"],\n",
    "        name = \"Los Angeles CA\"\n",
    "    ),\n",
    "]\n",
    "\n",
    "plot_layout_data_compare_by_city = go.Layout(\n",
    "    xaxis = {\"type\": \"category\"},\n",
    "    title = \"Order on Cities by Month\"\n",
    ")\n",
    "\n",
    "fig_compare_by_city = go.Figure(data = plot_data_compare_by_city, layout = plot_layout_data_compare_by_city)\n",
    "fig_compare_by_city.show()"
   ]
  },
  {
   "cell_type": "markdown",
   "metadata": {},
   "source": [
    "Ngitung Waktu "
   ]
  },
  {
   "cell_type": "code",
   "execution_count": null,
   "metadata": {},
   "outputs": [],
   "source": [
    "data_total_iphone_by_time = d_grocery.query(\"City == 'Los Angeles CA' and Product == 'iPhone'\")\n",
    "data_total_iphone_by_time[\"Hour\"] = data_total_iphone_by_time[\"Time\"].str[:2]\n",
    "data_total_iphone_by_time = data_total_iphone_by_time.groupby([\"Hour\"])[\"Total\"].sum().reset_index()\n",
    "data_total_iphone_by_time"
   ]
  },
  {
   "cell_type": "code",
   "execution_count": null,
   "metadata": {},
   "outputs": [],
   "source": [
    "plot_data_total_iphone_by_time = [\n",
    "    go.Scatter(\n",
    "        x = data_total_iphone_by_time[\"Hour\"],\n",
    "        y = data_total_iphone_by_time[\"Total\"],\n",
    "        name = \"Total Revenue\"\n",
    "    )\n",
    "]\n",
    "\n",
    "plot_layout_data_total_iphone_by_time = go.Layout(\n",
    "    xaxis = {\"type\": \"category\"},\n",
    "    title = \"iPhone Revenue in LA per Hour\"\n",
    ")\n",
    "\n",
    "fig_data_total_iphone_by_time = go.Figure(data = plot_data_total_iphone_by_time, layout = plot_layout_data_total_iphone_by_time)\n",
    "fig_data_total_iphone_by_time.show()"
   ]
  },
  {
   "cell_type": "code",
   "execution_count": null,
   "metadata": {},
   "outputs": [],
   "source": [
    "def slice_by_quarter(time):\n",
    "    hour = time[:3]\n",
    "    minute = time[:3]\n",
    "    quarter = int(minute) // 15\n",
    "\n",
    "    next_hour = int(time[:2])+1\n",
    "\n",
    "    if quarter == 0:\n",
    "        value = hour + \"0\" + minute + \"15\""
   ]
  },
  {
   "cell_type": "markdown",
   "metadata": {},
   "source": [
    "anjirlah gw ketinggalan\n",
    "\n",
    "def slice_by_quarter(time):\n",
    "    hour = time[:3]\n",
    "    minute = time[:3]\n",
    "    quarter = int(minute) // 15\n",
    "\n",
    "    next_hour = int(time[:2])+1\n",
    "\n",
    "    if quarter == 0:\n",
    "        value = hour + \"0\" + minute + \"15\"\n",
    "    if quarter == 1:\n",
    "        value = hour + \"16\" + minute + \"30\"\n",
    "    if quarter == 2:\n",
    "        value = hour + \"31\" + minute + \"45\"\n",
    "    if quarter == 3:\n",
    "        value = hour + \"46\" + minute + \"60\""
   ]
  }
 ],
 "metadata": {
  "interpreter": {
   "hash": "25b2421bd605e9965dca46f2467c0c384d2bd067692e7f45cc2c9a1d81edc113"
  },
  "kernelspec": {
   "display_name": "Python 3.9.7 ('datsci')",
   "language": "python",
   "name": "python3"
  },
  "language_info": {
   "codemirror_mode": {
    "name": "ipython",
    "version": 3
   },
   "file_extension": ".py",
   "mimetype": "text/x-python",
   "name": "python",
   "nbconvert_exporter": "python",
   "pygments_lexer": "ipython3",
   "version": "3.9.7"
  },
  "orig_nbformat": 4
 },
 "nbformat": 4,
 "nbformat_minor": 2
}
